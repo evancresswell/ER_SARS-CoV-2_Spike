{
 "cells": [
  {
   "cell_type": "code",
   "execution_count": 4,
   "id": "27423cb0",
   "metadata": {},
   "outputs": [
    {
     "name": "stderr",
     "output_type": "stream",
     "text": [
      "/data/cresswellclayec/conda/envs/DCA_ER/lib/python3.9/site-packages/Bio/SubsMat/__init__.py:126: BiopythonDeprecationWarning: Bio.SubsMat has been deprecated, and we intend to remove it in a future release of Biopython. As an alternative, please consider using Bio.Align.substitution_matrices as a replacement, and contact the Biopython developers if you still need the Bio.SubsMat module.\n",
      "  warnings.warn(\n"
     ]
    }
   ],
   "source": [
    "import sys,os\n",
    "# import genome_data_processing as gdp\n",
    "# import ecc_tools as tools\n",
    "import timeit\n",
    "# import pydca-ER module\n",
    "import matplotlib\n",
    "#matplotlib.use('agg')\n",
    "import matplotlib.pyplot as plt\n",
    "from scipy import linalg\n",
    "from sklearn.preprocessing import OneHotEncoder\n",
    "# import expectation_reflection as ER\n",
    "# from direct_info import direct_info\n",
    "# from direct_info import sort_di\n",
    "from joblib import Parallel, delayed\n",
    "import numpy as np\n",
    "import pickle\n",
    "from Bio import Phylo\n",
    "import networkx, pylab\n",
    "import pandas as pd\n",
    "import Bio.SubsMat.FreqTable\n",
    "from Bio.Align import AlignInfo\n",
    "from Bio import AlignIO, SeqIO\n"
   ]
  },
  {
   "cell_type": "code",
   "execution_count": 10,
   "id": "9a1b48dc",
   "metadata": {},
   "outputs": [],
   "source": [
    "#========================================================================================\n",
    "data_path = '/data/cresswellclayec/covid_data/spikeprot1201/'\n",
    "root_dir = '/data/cresswellclayec/covid_data/'\n",
    "\n",
    "cpus_per_job = 40\n",
    "\n",
    "\n",
    "# Swarm aligned file  \n",
    "msa_file = data_path+\"spikeprot1201.fasta\"\n",
    "# ref_file = root_dir+\"EPI_ISL_402124.fasta\""
   ]
  },
  {
   "cell_type": "code",
   "execution_count": 40,
   "id": "e949c99e",
   "metadata": {},
   "outputs": [
    {
     "name": "stderr",
     "output_type": "stream",
     "text": [
      "/tmp/ipykernel_36153/2606234665.py:1: DeprecationWarning: 'U' mode is deprecated\n",
      "  input_handle = open(msa_file, \"rU\")\n"
     ]
    }
   ],
   "source": [
    "input_handle = open(msa_file, \"rU\")\n",
    "alignments = AlignIO.parse(input_handle, \"fasta\")\n",
    "\n",
    "\n"
   ]
  },
  {
   "cell_type": "code",
   "execution_count": 42,
   "id": "bee9f3f8",
   "metadata": {},
   "outputs": [
    {
     "name": "stderr",
     "output_type": "stream",
     "text": [
      "/tmp/ipykernel_36153/2646587916.py:9: DeprecationWarning: 'U' mode is deprecated\n",
      "  with open(msa_file, 'rU') as f:\n"
     ]
    },
    {
     "name": "stdout",
     "output_type": "stream",
     "text": [
      "error at i = 11678610\n"
     ]
    }
   ],
   "source": [
    "# all_seqs = []\n",
    "# for record in alignments:\n",
    "#     print(record.seq)\n",
    "#     all_seqs.append(record.seq)\n",
    "# input_handle.close()    \n",
    "# all_seqs = [record.seq for record in alignments]\n",
    "# all_seqs = [record.seq for record in alignments]\n",
    "all_seqs = []\n",
    "with open(msa_file, 'rU') as f:\n",
    "    seq_iter = SeqIO.parse(f,'fasta')\n",
    "    try:\n",
    "        for i, seq in enumerate(seq_iter):\n",
    "            all_seqs.append(seq)\n",
    "    except(UnicodeDecodeError):\n",
    "        print('error at i = %d'%i)\n",
    "# print(len(all_seqs))"
   ]
  },
  {
   "cell_type": "code",
   "execution_count": 12,
   "id": "9e72955b",
   "metadata": {},
   "outputs": [
    {
     "name": "stdout",
     "output_type": "stream",
     "text": [
      "       Accession ID             Type Clade Pango lineage Pangolin version  \\\n",
      "0  EPI_ISL_10588695  betacoronavirus   GRA          BA.1      PANGO-v1.16   \n",
      "1  EPI_ISL_13380166  betacoronavirus   GRA     BA.2.12.1   consensus call   \n",
      "2  EPI_ISL_10534395  betacoronavirus   GRA        BA.1.1     PLEARN-v1.16   \n",
      "3  EPI_ISL_10535295  betacoronavirus   GRA          BA.2   consensus call   \n",
      "4   EPI_ISL_9513747  betacoronavirus   GRA        BA.1.1      PANGO-v1.16   \n",
      "\n",
      "                                    AA Substitutions  \\\n",
      "0  (NSP5_P132H,Spike_H69del,Spike_A67V,Spike_S373...   \n",
      "1  (NSP5_P132H,NSP3_G489S,Spike_L24del,NSP4_T327I...   \n",
      "2  (NSP5_P132H,Spike_H69del,Spike_T95I,Spike_A67V...   \n",
      "3  (NSP5_P132H,NSP3_G489S,Spike_L24del,NSP4_T327I...   \n",
      "4  (NSP5_P132H,Spike_T95I,Spike_A67V,Spike_S373P,...   \n",
      "\n",
      "                                             Variant Collection date  \\\n",
      "0  VOC Omicron GRA (B.1.1.529+BA.*) first detecte...      2022-01-27   \n",
      "1  VOC Omicron GRA (B.1.1.529+BA.*) first detecte...      2022-06-07   \n",
      "2  VOC Omicron GRA (B.1.1.529+BA.*) first detecte...      2022-02-20   \n",
      "3  VOC Omicron GRA (B.1.1.529+BA.*) first detecte...      2022-02-19   \n",
      "4  VOC Omicron GRA (B.1.1.529+BA.*) first detecte...      2021-12-29   \n",
      "\n",
      "                             Location   Host Submission date Is reference?  \\\n",
      "0             Europe / Spain / Murcia  Human      2022-03-02           NaN   \n",
      "1      Europe / Germany / Brandenburg  Human      2022-06-21           NaN   \n",
      "2  Europe / United Kingdom / Scotland  Human      2022-03-01           NaN   \n",
      "3   Europe / United Kingdom / England  Human      2022-03-01           NaN   \n",
      "4                   Europe / Slovenia  Human      2022-02-04           NaN   \n",
      "\n",
      "  Is complete? Is high coverage? Is low coverage?  N-Content  GC-Content  \\\n",
      "0         True               NaN              NaN   0.014343    0.379205   \n",
      "1         True               NaN              NaN   0.007692    0.379398   \n",
      "2         True               NaN              NaN   0.024480    0.378150   \n",
      "3         True               NaN              NaN        NaN    0.378953   \n",
      "4         True               NaN              NaN   0.000504    0.379567   \n",
      "\n",
      "   Sequence length  \n",
      "0            29770  \n",
      "1            29643  \n",
      "2            29453  \n",
      "3            29724  \n",
      "4            29791  \n",
      "14050359\n",
      "12778686\n"
     ]
    }
   ],
   "source": [
    "variant_metadata = pd.read_csv(\"/data/cresswellclayec/covid_data/variant_surveillance/variant_surveillance.tsv\",sep='\\t',low_memory=False)\n",
    "print(variant_metadata.head())\n",
    "print(len(variant_metadata))\n",
    "variant_metadata = variant_metadata.dropna(subset=['Accession ID', 'Variant'])\n",
    "print(len(variant_metadata))\n",
    "variant_metadata['Collection date'] = pd.to_datetime(variant_metadata['Collection date'])\n",
    "\n",
    "omicron_df = variant_metadata[variant_metadata['Variant'].str.contains('Omicron')]\n",
    "delta_df = variant_metadata[variant_metadata['Variant'].str.contains('Delta')]\n",
    "\n"
   ]
  },
  {
   "cell_type": "code",
   "execution_count": 13,
   "id": "9323e952",
   "metadata": {},
   "outputs": [
    {
     "name": "stdout",
     "output_type": "stream",
     "text": [
      "6679236\n",
      "4550038\n",
      "<bound method NDFrame.head of               Accession ID             Type Clade Pango lineage  \\\n",
      "0         EPI_ISL_10588695  betacoronavirus   GRA          BA.1   \n",
      "1         EPI_ISL_13380166  betacoronavirus   GRA     BA.2.12.1   \n",
      "2         EPI_ISL_10534395  betacoronavirus   GRA        BA.1.1   \n",
      "3         EPI_ISL_10535295  betacoronavirus   GRA          BA.2   \n",
      "4          EPI_ISL_9513747  betacoronavirus   GRA        BA.1.1   \n",
      "...                    ...              ...   ...           ...   \n",
      "14050354  EPI_ISL_10533295  betacoronavirus   GRA     BA.1.15.1   \n",
      "14050355  EPI_ISL_10588595  betacoronavirus   GRA        BA.2.9   \n",
      "14050356  EPI_ISL_10534095  betacoronavirus   GRA        BA.1.1   \n",
      "14050357   EPI_ISL_8901256  betacoronavirus   GRA       BA.1.17   \n",
      "14050358  EPI_ISL_13380115  betacoronavirus   GRA          BA.2   \n",
      "\n",
      "         Pangolin version                                   AA Substitutions  \\\n",
      "0             PANGO-v1.16  (NSP5_P132H,Spike_H69del,Spike_A67V,Spike_S373...   \n",
      "1          consensus call  (NSP5_P132H,NSP3_G489S,Spike_L24del,NSP4_T327I...   \n",
      "2            PLEARN-v1.16  (NSP5_P132H,Spike_H69del,Spike_T95I,Spike_A67V...   \n",
      "3          consensus call  (NSP5_P132H,NSP3_G489S,Spike_L24del,NSP4_T327I...   \n",
      "4             PANGO-v1.16  (NSP5_P132H,Spike_T95I,Spike_A67V,Spike_S373P,...   \n",
      "...                   ...                                                ...   \n",
      "14050354     PLEARN-v1.16  (NSP5_P132H,Spike_H69del,Spike_T95I,Spike_A67V...   \n",
      "14050355   consensus call  (NSP5_P132H,NSP3_G489S,Spike_L24del,NSP4_T327I...   \n",
      "14050356     PLEARN-v1.16  (NSP5_P132H,Spike_H69del,Spike_T95I,Spike_A67V...   \n",
      "14050357     PLEARN-v1.16  (NSP5_P132H,Spike_H69del,Spike_T95I,Spike_A67V...   \n",
      "14050358     PLEARN-v1.16  (NSP5_P132H,NSP3_G489S,Spike_L24del,NSP4_T327I...   \n",
      "\n",
      "                                                    Variant Collection date  \\\n",
      "0         VOC Omicron GRA (B.1.1.529+BA.*) first detecte...      2022-01-27   \n",
      "1         VOC Omicron GRA (B.1.1.529+BA.*) first detecte...      2022-06-07   \n",
      "2         VOC Omicron GRA (B.1.1.529+BA.*) first detecte...      2022-02-20   \n",
      "3         VOC Omicron GRA (B.1.1.529+BA.*) first detecte...      2022-02-19   \n",
      "4         VOC Omicron GRA (B.1.1.529+BA.*) first detecte...      2021-12-29   \n",
      "...                                                     ...             ...   \n",
      "14050354  VOC Omicron GRA (B.1.1.529+BA.*) first detecte...      2022-02-19   \n",
      "14050355  VOC Omicron GRA (B.1.1.529+BA.*) first detecte...      2022-03-01   \n",
      "14050356  VOC Omicron GRA (B.1.1.529+BA.*) first detecte...      2022-02-20   \n",
      "14050357  VOC Omicron GRA (B.1.1.529+BA.*) first detecte...      2022-01-10   \n",
      "14050358  VOC Omicron GRA (B.1.1.529+BA.*) first detecte...      2022-05-19   \n",
      "\n",
      "                                                Location   Host  \\\n",
      "0                                Europe / Spain / Murcia  Human   \n",
      "1                         Europe / Germany / Brandenburg  Human   \n",
      "2                     Europe / United Kingdom / Scotland  Human   \n",
      "3                      Europe / United Kingdom / England  Human   \n",
      "4                                      Europe / Slovenia  Human   \n",
      "...                                                  ...    ...   \n",
      "14050354               Europe / United Kingdom / England  Human   \n",
      "14050355                                 Europe / Poland  Human   \n",
      "14050356              Europe / United Kingdom / Scotland  Human   \n",
      "14050357  Oceania / Australia / New South Wales / Sydney  Human   \n",
      "14050358                    Europe / Germany / Thuringia  Human   \n",
      "\n",
      "         Submission date Is reference? Is complete? Is high coverage?  \\\n",
      "0             2022-03-02           NaN         True               NaN   \n",
      "1             2022-06-21           NaN         True               NaN   \n",
      "2             2022-03-01           NaN         True               NaN   \n",
      "3             2022-03-01           NaN         True               NaN   \n",
      "4             2022-02-04           NaN         True               NaN   \n",
      "...                  ...           ...          ...               ...   \n",
      "14050354      2022-03-01           NaN         True               NaN   \n",
      "14050355      2022-03-02           NaN         True               NaN   \n",
      "14050356      2022-03-01           NaN         True               NaN   \n",
      "14050357      2022-01-20           NaN         True               NaN   \n",
      "14050358      2022-06-21           NaN         True               NaN   \n",
      "\n",
      "         Is low coverage?  N-Content  GC-Content  Sequence length  \n",
      "0                     NaN   0.014343    0.379205            29770  \n",
      "1                     NaN   0.007692    0.379398            29643  \n",
      "2                     NaN   0.024480    0.378150            29453  \n",
      "3                     NaN        NaN    0.378953            29724  \n",
      "4                     NaN   0.000504    0.379567            29791  \n",
      "...                   ...        ...         ...              ...  \n",
      "14050354              NaN   0.024308    0.379979            29744  \n",
      "14050355              NaN   0.006085    0.378678            29747  \n",
      "14050356              NaN        NaN    0.379547            29746  \n",
      "14050357              NaN   0.034754    0.379236            29378  \n",
      "14050358              NaN   0.018883    0.379546            29709  \n",
      "\n",
      "[6679236 rows x 18 columns]>\n"
     ]
    }
   ],
   "source": [
    "print(len(omicron_df))\n",
    "print(len(delta_df))\n",
    "\n",
    "print(omicron_df.head)"
   ]
  },
  {
   "cell_type": "code",
   "execution_count": 14,
   "id": "2cb73872",
   "metadata": {},
   "outputs": [
    {
     "name": "stdout",
     "output_type": "stream",
     "text": [
      "Collection date  Variant                                                                           \n",
      "2017             VOC Delta GK (B.1.617.2+AY.*) first detected in India                                       1\n",
      "                 VOC Gamma GR/501Y.V3 (P.1+P.1.*) first detected in Brazil/Japan                             4\n",
      "2019             VOC Alpha GRY (B.1.1.7+Q.*) first detected in the UK                                        6\n",
      "                 VOC Delta GK (B.1.617.2+AY.*) first detected in India                                       1\n",
      "2020             VOC Alpha GRY (B.1.1.7+Q.*) first detected in the UK                                    22791\n",
      "                 VOC Beta GH/501Y.V2 (B.1.351+B.1.351.2+B.1.351.3) first detected in South Africa         3225\n",
      "                 VOC Delta GK (B.1.617.2+AY.*) first detected in India                                     742\n",
      "                 VOC Gamma GR/501Y.V3 (P.1+P.1.*) first detected in Brazil/Japan                           198\n",
      "                 VOI Epsilon GH/452R.V1 (B.1.429+B.1.427) first detected in USA/California                6037\n",
      "                 VOI Eta G/484K.V3 (B.1.525) first detected in UK/Nigeria                                   50\n",
      "                 VOI Iota GH/253G.V1 (B.1.526) first detected in USA/New York                               88\n",
      "                 VOI Kappa G/452R.V3 (B.1.617.1) first detected in India                                    39\n",
      "                 VOI Lambda GR/452Q.V1 (C.37+C.37.1) first detected in Peru                                  6\n",
      "                 VOI Mu GH (B.1.621+B.1.621.1) first detected in Colombia                                    3\n",
      "                 VOI Zeta GR/484K.V2 (P.2) first detected in Brazil                                       1280\n",
      "2021             VOC Alpha GRY (B.1.1.7+Q.*) first detected in the UK                                  1176018\n",
      "                 VOC Beta GH/501Y.V2 (B.1.351+B.1.351.2+B.1.351.3) first detected in South Africa        40615\n",
      "                 VOC Delta GK (B.1.617.2+AY.*) first detected in India                                 4493705\n",
      "                 VOC Gamma GR/501Y.V3 (P.1+P.1.*) first detected in Brazil/Japan                        130286\n",
      "                 VOC Omicron GRA (B.1.1.529+BA.*) first detected in Botswana/Hong Kong/South Africa     504973\n",
      "                 VOI Epsilon GH/452R.V1 (B.1.429+B.1.427) first detected in USA/California               70151\n",
      "                 VOI Eta G/484K.V3 (B.1.525) first detected in UK/Nigeria                                10199\n",
      "                 VOI Iota GH/253G.V1 (B.1.526) first detected in USA/New York                            44246\n",
      "                 VOI Kappa G/452R.V3 (B.1.617.1) first detected in India                                 10668\n",
      "                 VOI Lambda GR/452Q.V1 (C.37+C.37.1) first detected in Peru                              10469\n",
      "                 VOI Mu GH (B.1.621+B.1.621.1) first detected in Colombia                                15843\n",
      "                 VOI Theta GR/1092K.V1 (P.3) first detected in the Philippines                             641\n",
      "                 VOI Zeta GR/484K.V2 (P.2) first detected in Brazil                                       5195\n",
      "                 VUM GH/490R (B.1.640+B.1.640.*) first detected in Congo/France                           1167\n",
      "2022             VOC Alpha GRY (B.1.1.7+Q.*) first detected in the UK                                       71\n",
      "                 VOC Beta GH/501Y.V2 (B.1.351+B.1.351.2+B.1.351.3) first detected in South Africa           10\n",
      "                 VOC Delta GK (B.1.617.2+AY.*) first detected in India                                   55589\n",
      "                 VOC Gamma GR/501Y.V3 (P.1+P.1.*) first detected in Brazil/Japan                             9\n",
      "                 VOC Omicron GRA (B.1.1.529+BA.*) first detected in Botswana/Hong Kong/South Africa    6174263\n",
      "                 VOI Epsilon GH/452R.V1 (B.1.429+B.1.427) first detected in USA/California                   3\n",
      "                 VOI Eta G/484K.V3 (B.1.525) first detected in UK/Nigeria                                    3\n",
      "                 VOI Kappa G/452R.V3 (B.1.617.1) first detected in India                                    17\n",
      "                 VOI Lambda GR/452Q.V1 (C.37+C.37.1) first detected in Peru                                  5\n",
      "                 VOI Mu GH (B.1.621+B.1.621.1) first detected in Colombia                                    2\n",
      "                 VOI Theta GR/1092K.V1 (P.3) first detected in the Philippines                               1\n",
      "                 VOI Zeta GR/484K.V2 (P.2) first detected in Brazil                                          4\n",
      "                 VUM GH/490R (B.1.640+B.1.640.*) first detected in Congo/France                             62\n",
      "dtype: int64\n"
     ]
    }
   ],
   "source": [
    "print(variant_metadata.groupby([pd.PeriodIndex(variant_metadata['Collection date'], freq='Y'), \n",
    "                                variant_metadata['Variant']]).size())"
   ]
  },
  {
   "cell_type": "code",
   "execution_count": 15,
   "id": "ef962c80",
   "metadata": {},
   "outputs": [
    {
     "name": "stdout",
     "output_type": "stream",
     "text": [
      "Spike|hCoV-19/Wuhan/WIV04/2019|2019-12-30|EPI_ISL_402124|Original|hCoV-19^^Hubei|Human|Wuhan\n",
      "['Spike', 'hCoV-19/Wuhan/WIV04/2019', '2019-12-30', 'EPI_ISL_402124', 'Original', 'hCoV-19^^Hubei', 'Human', 'Wuhan']\n",
      "EPI_ISL_402124\n"
     ]
    }
   ],
   "source": [
    "# get sequences fro omicron\n",
    "print(all_seqs[0].id)\n",
    "print(all_seqs[0].id.split('|'))\n",
    "print(all_seqs[0].id.split('|')[3])\n",
    "accessions = []\n",
    "accessions_indx = []\n",
    "for i,seq in enumerate(all_seqs):\n",
    "    if 'EPI_ISL' in seq.id:\n",
    "        for id_str in seq.id.split('|'):\n",
    "            if 'EPI_ISL' in id_str:\n",
    "                accessions.append(id_str)\n",
    "                accessions_indx.append(i)\n",
    "                break\n",
    "    "
   ]
  },
  {
   "cell_type": "code",
   "execution_count": 16,
   "id": "b10296ca",
   "metadata": {},
   "outputs": [
    {
     "name": "stdout",
     "output_type": "stream",
     "text": [
      "11399377\n"
     ]
    }
   ],
   "source": [
    "print(len(accessions))"
   ]
  },
  {
   "cell_type": "code",
   "execution_count": 17,
   "id": "89d1009a",
   "metadata": {},
   "outputs": [
    {
     "name": "stdout",
     "output_type": "stream",
     "text": [
      "4367191\n",
      "4339785\n"
     ]
    }
   ],
   "source": [
    "omicron_prot_df = omicron_df.loc[omicron_df['Accession ID'].isin(accessions)]\n",
    "print(len(omicron_prot_df))\n",
    "delta_prot_df = delta_df.loc[delta_df['Accession ID'].isin(accessions)]\n",
    "print(len(delta_prot_df))"
   ]
  },
  {
   "cell_type": "code",
   "execution_count": 18,
   "id": "f521edc7",
   "metadata": {},
   "outputs": [],
   "source": [
    "# # Make sure there are no duplicates -- passed\n",
    "# print(len(delta_prot_df['Accession ID'].unique()))\n",
    "# print(len(omicron_prot_df['Accession ID'].unique()))\n",
    "# print(len(pd.concat([delta_prot_df,omicron_prot_df])['Accession ID'].unique()))\n",
    "# print(len(omicron_prot_df) + len(delta_prot_df))"
   ]
  },
  {
   "cell_type": "code",
   "execution_count": 19,
   "id": "eeb5c283",
   "metadata": {},
   "outputs": [
    {
     "name": "stdout",
     "output_type": "stream",
     "text": [
      "Collection date  Variant                                                                           \n",
      "2017             VOC Delta GK (B.1.617.2+AY.*) first detected in India                                       1\n",
      "2019             VOC Delta GK (B.1.617.2+AY.*) first detected in India                                       1\n",
      "2020             VOC Delta GK (B.1.617.2+AY.*) first detected in India                                     508\n",
      "2021             VOC Delta GK (B.1.617.2+AY.*) first detected in India                                 4290277\n",
      "                 VOC Omicron GRA (B.1.1.529+BA.*) first detected in Botswana/Hong Kong/South Africa     476843\n",
      "2022             VOC Delta GK (B.1.617.2+AY.*) first detected in India                                   48998\n",
      "                 VOC Omicron GRA (B.1.1.529+BA.*) first detected in Botswana/Hong Kong/South Africa    3890348\n",
      "dtype: int64\n"
     ]
    }
   ],
   "source": [
    "full_df = pd.concat([delta_prot_df,omicron_prot_df])\n",
    "print(full_df.groupby([pd.PeriodIndex(full_df['Collection date'], freq='Y'), \n",
    "                                full_df['Variant']]).size())"
   ]
  },
  {
   "cell_type": "code",
   "execution_count": 20,
   "id": "abf63140",
   "metadata": {},
   "outputs": [
    {
     "name": "stdout",
     "output_type": "stream",
     "text": [
      "['EPI_ISL_402124', 'EPI_ISL_2155626', 'EPI_ISL_940774', 'EPI_ISL_1097311', 'EPI_ISL_960831']\n"
     ]
    }
   ],
   "source": [
    "# omicron_prot_df.to_pickle(\"./omicron_prot_df.pkl\")\n",
    "# delta_prot_df.to_pickle(\"./delta_prot_df.pkl\")\n",
    "# np.save('accessions.npy', accessions)\n",
    "# np.save('accessions_indx.npy', accessions_indx)\n",
    "delta_prot_df = pd.read_pickle(\"./delta_prot_df.pkl\")\n",
    "omicron_prot_df = pd.read_pickle(\"./omicron_prot_df.pkl\")\n",
    "\n",
    "accessions = np.load('accessions.npy').tolist()\n",
    "accessions_indx = np.load('accessions_indx.npy').tolist()\n",
    "\n",
    "# get the msa indices of the variant data\n",
    "print(accessions[:5])"
   ]
  },
  {
   "cell_type": "code",
   "execution_count": 21,
   "id": "837a7fd8",
   "metadata": {},
   "outputs": [],
   "source": [
    "# delta_prot_df['MSA indx'] = pd.Series(dtype='int')\n",
    "\n",
    "def get_acc_indx(accessions, accessions_indx, acc_id, i):\n",
    "    indx = accessions_indx[accessions.index(acc_id[i])]\n",
    "    return indx\n",
    "def get_acc_indx(accessions, acc_id):\n",
    "    return acc_id"
   ]
  },
  {
   "cell_type": "code",
   "execution_count": 22,
   "id": "30516f21",
   "metadata": {},
   "outputs": [],
   "source": [
    "# print(get_acc_indx(accessions, accessions_indx, delta_prot_df['Accession ID'].tolist(),0))\n",
    "delta_accession = delta_prot_df['Accession ID'].tolist()\n",
    "omicron_accession = omicron_prot_df['Accession ID'].tolist()\n",
    "accession_as_dict = dict(zip(accessions,range(0,len(accessions))))\n"
   ]
  },
  {
   "cell_type": "code",
   "execution_count": 23,
   "id": "47246aaf",
   "metadata": {},
   "outputs": [
    {
     "name": "stdout",
     "output_type": "stream",
     "text": [
      "7233731\n",
      "EPI_ISL_8997419\n",
      "EPI_ISL_8997419\n"
     ]
    }
   ],
   "source": [
    "msa_indx = accession_as_dict[delta_accession[0]]\n",
    "print(msa_indx)\n",
    "print(delta_accession[0])\n",
    "print(accessions[msa_indx])\n"
   ]
  },
  {
   "cell_type": "code",
   "execution_count": 24,
   "id": "8dadc25c",
   "metadata": {},
   "outputs": [],
   "source": [
    "delta_indx = []\n",
    "for acc in delta_accession:\n",
    "    delta_indx.append(accession_as_dict[acc])\n",
    "omicron_indx = []\n",
    "for acc in omicron_accession:\n",
    "    omicron_indx.append(accession_as_dict[acc])"
   ]
  },
  {
   "cell_type": "code",
   "execution_count": 25,
   "id": "010a212c",
   "metadata": {},
   "outputs": [
    {
     "name": "stdout",
     "output_type": "stream",
     "text": [
      "4339785\n",
      "4367191\n",
      "4339785\n",
      "4367191\n"
     ]
    }
   ],
   "source": [
    "print(len(delta_indx))\n",
    "print(len(omicron_indx))\n",
    "print(len(delta_prot_df))\n",
    "print(len(omicron_prot_df))"
   ]
  },
  {
   "cell_type": "code",
   "execution_count": null,
   "id": "dd1b77dc",
   "metadata": {},
   "outputs": [],
   "source": [
    "# create MSA of omicron and delta variants\n",
    "from Bio import AlignIO\n",
    "from Bio.Align import MultipleSeqAlignment\n",
    "\n",
    "omicron_seqs = [all_seqs[i] for i in omicron_indx]\n",
    "delta_seqs = [all_seqs[i] for i in delta_indx]\n",
    "\n",
    "omicron_alignment = MultipleSeqAlignment(omicron_seqs)\n",
    "delta_alignemtn = MultipleSeqAlignment(delta_seqs)"
   ]
  },
  {
   "cell_type": "code",
   "execution_count": 43,
   "id": "baaedc33",
   "metadata": {},
   "outputs": [
    {
     "ename": "NameError",
     "evalue": "name 'omicron_alignment' is not defined",
     "output_type": "error",
     "traceback": [
      "\u001b[0;31m---------------------------------------------------------------------------\u001b[0m",
      "\u001b[0;31mNameError\u001b[0m                                 Traceback (most recent call last)",
      "\u001b[0;32m/tmp/ipykernel_36153/2510645802.py\u001b[0m in \u001b[0;36m<module>\u001b[0;34m\u001b[0m\n\u001b[0;32m----> 1\u001b[0;31m \u001b[0;32mfor\u001b[0m \u001b[0mrecord\u001b[0m \u001b[0;32min\u001b[0m \u001b[0momicron_alignment\u001b[0m\u001b[0;34m:\u001b[0m\u001b[0;34m\u001b[0m\u001b[0;34m\u001b[0m\u001b[0m\n\u001b[0m\u001b[1;32m      2\u001b[0m     \u001b[0mprint\u001b[0m\u001b[0;34m(\u001b[0m\u001b[0mlen\u001b[0m\u001b[0;34m(\u001b[0m\u001b[0mrecord\u001b[0m\u001b[0;34m.\u001b[0m\u001b[0mseq\u001b[0m\u001b[0;34m)\u001b[0m\u001b[0;34m)\u001b[0m\u001b[0;34m\u001b[0m\u001b[0;34m\u001b[0m\u001b[0m\n\u001b[1;32m      3\u001b[0m \u001b[0;34m\u001b[0m\u001b[0m\n\u001b[1;32m      4\u001b[0m \u001b[0moutput_handle\u001b[0m \u001b[0;34m=\u001b[0m \u001b[0mopen\u001b[0m\u001b[0;34m(\u001b[0m\u001b[0;34m\"omicron.fasta\"\u001b[0m\u001b[0;34m,\u001b[0m \u001b[0;34m\"w\"\u001b[0m\u001b[0;34m)\u001b[0m\u001b[0;34m\u001b[0m\u001b[0;34m\u001b[0m\u001b[0m\n\u001b[1;32m      5\u001b[0m \u001b[0mAlignIO\u001b[0m\u001b[0;34m.\u001b[0m\u001b[0mwrite\u001b[0m\u001b[0;34m(\u001b[0m\u001b[0momicron_alignment\u001b[0m\u001b[0;34m,\u001b[0m \u001b[0mouptut_handle\u001b[0m\u001b[0;34m,\u001b[0m \u001b[0;34m\"fasta\"\u001b[0m\u001b[0;34m)\u001b[0m\u001b[0;34m\u001b[0m\u001b[0;34m\u001b[0m\u001b[0m\n",
      "\u001b[0;31mNameError\u001b[0m: name 'omicron_alignment' is not defined"
     ]
    }
   ],
   "source": [
    "for record in omicron_alignment:\n",
    "    print(len(record.seq))\n",
    "\n",
    "output_handle = open(\"omicron.fasta\", \"w\")\n",
    "AlignIO.write(omicron_alignment, ouptut_handle, \"fasta\")\n",
    "output_handle.close()\n",
    "\n",
    "output_handle = open(\"delta.fasta\", \"w\")\n",
    "AlignIO.write(delta_alignment, ouptut_handle, \"fasta\")\n",
    "output_handle.close()"
   ]
  },
  {
   "cell_type": "code",
   "execution_count": 27,
   "id": "c6427ac4",
   "metadata": {},
   "outputs": [
    {
     "ename": "KeyboardInterrupt",
     "evalue": "",
     "output_type": "error",
     "traceback": [
      "\u001b[0;31m---------------------------------------------------------------------------\u001b[0m",
      "\u001b[0;31mKeyboardInterrupt\u001b[0m                         Traceback (most recent call last)",
      "\u001b[0;32m/tmp/ipykernel_36153/2291415543.py\u001b[0m in \u001b[0;36m<module>\u001b[0;34m\u001b[0m\n\u001b[1;32m      3\u001b[0m \u001b[0mdelta_seqs\u001b[0m \u001b[0;34m=\u001b[0m \u001b[0;34m[\u001b[0m\u001b[0;34m]\u001b[0m\u001b[0;34m\u001b[0m\u001b[0;34m\u001b[0m\u001b[0m\n\u001b[1;32m      4\u001b[0m \u001b[0;34m\u001b[0m\u001b[0m\n\u001b[0;32m----> 5\u001b[0;31m \u001b[0;32mfor\u001b[0m \u001b[0mi\u001b[0m\u001b[0;34m,\u001b[0m \u001b[0mseq\u001b[0m \u001b[0;32min\u001b[0m \u001b[0menumerate\u001b[0m\u001b[0;34m(\u001b[0m\u001b[0mall_seqs\u001b[0m\u001b[0;34m)\u001b[0m\u001b[0;34m:\u001b[0m\u001b[0;34m\u001b[0m\u001b[0;34m\u001b[0m\u001b[0m\n\u001b[0m\u001b[1;32m      6\u001b[0m     \u001b[0;32mif\u001b[0m \u001b[0mi\u001b[0m \u001b[0;32min\u001b[0m \u001b[0momicron_indx\u001b[0m \u001b[0;32mand\u001b[0m \u001b[0mi\u001b[0m \u001b[0;32min\u001b[0m \u001b[0mdelta_indx\u001b[0m\u001b[0;34m:\u001b[0m\u001b[0;34m\u001b[0m\u001b[0;34m\u001b[0m\u001b[0m\n\u001b[1;32m      7\u001b[0m         \u001b[0momicron_seqs\u001b[0m\u001b[0;34m.\u001b[0m\u001b[0mappend\u001b[0m\u001b[0;34m(\u001b[0m\u001b[0mseq\u001b[0m\u001b[0;34m)\u001b[0m\u001b[0;34m\u001b[0m\u001b[0;34m\u001b[0m\u001b[0m\n",
      "\u001b[0;31mKeyboardInterrupt\u001b[0m: "
     ]
    }
   ],
   "source": [
    "omicron_seqs = []\n",
    "delta_seqs = []\n",
    "for i, seq in enumerate(all_seqs):\n",
    "    if i in omicron_indx and i in delta_indx:\n",
    "        omicron_seqs.append(seq)\n",
    "        delta_seqs.append(seq)\n",
    "    elif i in omicron_indx:\n",
    "        omicron_seqs.append(seq)\n",
    "    elif i in delta_indx:\n",
    "        delta_seqs.append(seq)\n",
    "        \n",
    "output_handle = open(\"omicron.fa\", \"w\")\n",
    "AlignIO.write(omicron_seqs, ouptut_handle, \"fasta\")\n",
    "output_handle.close()\n",
    "\n",
    "output_handle = open(\"delta.fa\", \"w\")\n",
    "AlignIO.write(delta_seqs, ouptut_handle, \"fasta\")\n",
    "output_handle.close()"
   ]
  },
  {
   "cell_type": "code",
   "execution_count": null,
   "id": "f0f06c70",
   "metadata": {},
   "outputs": [],
   "source": []
  },
  {
   "cell_type": "code",
   "execution_count": null,
   "id": "4b16b635",
   "metadata": {},
   "outputs": [],
   "source": []
  }
 ],
 "metadata": {
  "kernelspec": {
   "display_name": "Python 3 (ipykernel)",
   "language": "python",
   "name": "python3"
  },
  "language_info": {
   "codemirror_mode": {
    "name": "ipython",
    "version": 3
   },
   "file_extension": ".py",
   "mimetype": "text/x-python",
   "name": "python",
   "nbconvert_exporter": "python",
   "pygments_lexer": "ipython3",
   "version": "3.9.9"
  }
 },
 "nbformat": 4,
 "nbformat_minor": 5
}
